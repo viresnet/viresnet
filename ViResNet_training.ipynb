{
  "nbformat": 4,
  "nbformat_minor": 0,
  "metadata": {
    "colab": {
      "name": "ViResNet_training.ipynb",
      "provenance": [],
      "toc_visible": true,
      "authorship_tag": "ABX9TyMPL+wDtitrPHKbSWw5e3VI",
      "include_colab_link": true
    },
    "kernelspec": {
      "name": "python3",
      "display_name": "Python 3"
    }
  },
  "cells": [
    {
      "cell_type": "markdown",
      "metadata": {
        "id": "view-in-github",
        "colab_type": "text"
      },
      "source": [
        "<a href=\"https://colab.research.google.com/github/viresnet/viresnet/blob/master/ViResNet_training.ipynb\" target=\"_parent\"><img src=\"https://colab.research.google.com/assets/colab-badge.svg\" alt=\"Open In Colab\"/></a>"
      ]
    },
    {
      "cell_type": "markdown",
      "metadata": {
        "id": "l4KUyR5KYyro",
        "colab_type": "text"
      },
      "source": [
        "\n",
        "---\n",
        "# Training of ViresNet\n"
      ]
    },
    {
      "cell_type": "code",
      "metadata": {
        "id": "YDuy0JR30WkI",
        "colab_type": "code",
        "colab": {}
      },
      "source": [
        "#@title Standart imports for ResNet50 training\n",
        "from tensorflow.keras.applications import ResNet50\n",
        "from tensorflow.keras.preprocessing.image import ImageDataGenerator\n",
        "from tensorflow.keras.layers import AveragePooling2D,Dropout,Flatten,Dense,Input\n",
        "from tensorflow.keras.models import Model\n",
        "from tensorflow.keras.optimizers import Adam"
      ],
      "execution_count": null,
      "outputs": []
    },
    {
      "cell_type": "code",
      "metadata": {
        "id": "2yKTwCfX10v7",
        "colab_type": "code",
        "colab": {}
      },
      "source": [
        "#@title Load ViResNet library\n"
      ],
      "execution_count": null,
      "outputs": []
    },
    {
      "cell_type": "markdown",
      "metadata": {
        "id": "9o91rlgwQd6q",
        "colab_type": "text"
      },
      "source": [
        ""
      ]
    },
    {
      "cell_type": "code",
      "metadata": {
        "id": "KuYi1DdnPknd",
        "colab_type": "code",
        "colab": {}
      },
      "source": [
        "#@title Intialize data and augmentation pipelines\n",
        "\n",
        "#Initialize data path \n",
        "basePath = 'BASE_PATH' \n",
        "\n",
        "# Initilize training,validation and testing paths\n",
        "trainPath = os.path.sep.join([basePath, \"train\"])\n",
        "validPath = os.path.sep.join([basePath, \"valid\"])\n",
        "testPath = os.path.sep.join([basePath, \"test\"])\n",
        "\n",
        "#######################\n",
        "# count the total number of imagesin training, validation,\n",
        "\n",
        "totalTrain = listFilesAndCount(trainPath)[0]\n",
        "totalVal = listFilesAndCount(trainPath)[0]\n",
        "totalTest = listFilesAndCount(trainPath)[0]\n",
        "\n",
        "#intialize training params\n",
        "batchSize = 32\n",
        "targetSize=(224, 224)\n",
        "numEpochs = 1000\n",
        "\n",
        "# initialize the training generator with shifts,shears,rotations etc.\n",
        "trainGen = trainAug.flow_from_directory(\n",
        "\trotation_range=25,\n",
        "\tzoom_range=0.1,\n",
        "\twidth_shift_range=0.1,\n",
        "\theight_shift_range=0.1,\n",
        "\tshear_range=0.2,\n",
        "\thorizontal_flip=True,\n",
        "\tfill_mode=\"nearest\")\n",
        "\n",
        "# initialize the validation generator\n",
        "valGen = valAug.flow_from_directory(\n",
        "\tvalidPath,\n",
        "\tclass_mode=\"categorical\",\n",
        "\ttarget_size=(224, 224),\n",
        "\tcolor_mode=\"rgb\",\n",
        "\tshuffle=False,\n",
        "\tbatch_size=batchSize)\n",
        "\n",
        "# initialize the testing generator\n",
        "testGen = valAug.flow_from_directory(\n",
        "\ttestPath,\n",
        "\tclass_mode=\"categorical\",\n",
        "\ttarget_size=(224, 224),\n",
        "\tcolor_mode=\"rgb\",\n",
        "\tshuffle=False,\n",
        "\tbatch_size=batchSize)\n",
        "\n",
        "\n",
        "\n",
        "\n"
      ],
      "execution_count": null,
      "outputs": []
    },
    {
      "cell_type": "code",
      "metadata": {
        "id": "_uybE-Cl27J3",
        "colab_type": "code",
        "colab": {}
      },
      "source": [
        "#@title Construction of the model\n",
        "\n",
        "# load the ResNet-50 network, ensuring the head FC layer sets are left\n",
        "# off\n",
        "baseModel = ResNet50(weights=\"imagenet\", include_top=False,\n",
        "\tinput_tensor=Input(shape=(224, 224, 3)))\n",
        "\n",
        "# Construct a custom head of the model that will be placed on top of the base\n",
        "#Resnet50 model. Several dense layers could be added if no convergence is reached\n",
        "headModel = baseModel.output\n",
        "headModel = AveragePooling2D(pool_size=(7, 7))(headModel)\n",
        "headModel = Flatten(name=\"flatten\")(headModel)\n",
        "headModel = Dense(1024, activation=\"relu\")(headModel)\n",
        "headModel = Dropout(0.5)(headModel)\n",
        "headModel = Dense(2, activation=\"softmax\")(headModel)\n",
        "\n",
        "# Join the head and the base\n",
        "model = Model(inputs=baseModel.input, outputs=headModel)\n",
        "\n",
        "#in order to use pretrained base model as a starting point we first freeze all layers\n",
        "#but the head ones\n",
        "for layer in baseModel.layers:\n",
        "\tlayer.trainable = False\n",
        "\n"
      ],
      "execution_count": null,
      "outputs": []
    },
    {
      "cell_type": "code",
      "metadata": {
        "id": "-y9gqDBE4m0o",
        "colab_type": "code",
        "colab": {}
      },
      "source": [
        "#@title Training of the model\n",
        "\n",
        "#first we compile the model by initializing an Adam optimizer with low learning rate\n",
        "opt = Adam(lr=1e-5, decay=1e-5 / numEpochs)\n",
        "#during compiling of the model the loss function has to be changed to categorical \n",
        "#cross entropy if more than 2 classes are present\n",
        "model.compile(loss=\"binary_crossentropy\", optimizer=opt,metrics=[\"accuracy\"])\n",
        "\n",
        "\n",
        "#train the model\n",
        "History = model.fit_generator(\n",
        "\ttrainGen,\n",
        "\tsteps_per_epoch=totalTrain // batchSize,\n",
        "\tvalidation_data=valGen,\n",
        "\tvalidation_steps=totalVal // batchSize,\n",
        "\tepochs=numEpochs)\n",
        "#in order to fine tune the results further, one can subsequently layer by \n",
        "#layer unfreeze the base model\n",
        "\n",
        "#look through the layers\n",
        "for i, layer in enumerate(model.layers):\n",
        "   print(i, layer.name, layer.trainable)\n",
        "#enable layers for training\n",
        "for layer in conv_base.layers[165:]:\n",
        "   layer.trainable = True\n",
        "\n",
        "#save the fine tuned model\n",
        "model.save('fineTunedViResNet.h5')\n"
      ],
      "execution_count": null,
      "outputs": []
    }
  ]
}